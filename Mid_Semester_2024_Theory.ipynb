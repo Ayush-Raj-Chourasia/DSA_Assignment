{
 "cells": [
  {
   "cell_type": "markdown",
   "metadata": {},
   "source": [
    "Q1. What do you mean by Object oriented programming? Advantages of object oriented programming language over procedural (Structural) programming language."
   ]
  },
  {
   "cell_type": "markdown",
   "metadata": {},
   "source": [
    "### Object-Oriented Programming (OOP)\n",
    "\n",
    "**Definition**: Object-oriented programming (OOP) is a programming paradigm that revolves around the concept of objects, which can contain data in the form of fields (attributes or properties) and code in the form of procedures (methods or functions).\n",
    "\n",
    "\n",
    "### Advantages of OOP over Procedural Programming\n",
    "\n",
    "1. **Modularity**:\n",
    "   - OOP promotes modularity by organizing code into objects, enhancing reusability and maintainability.\n",
    "   - Code readability is improved, and complexity is reduced.\n",
    "\n",
    "2. **Encapsulation**:\n",
    "   - Data hiding enhances security and prevents unintended data manipulation.\n",
    "   - Well-defined interfaces facilitate proper data access and manipulation.\n",
    "\n",
    "3. **Inheritance**:\n",
    "   - Code reuse is facilitated through inheritance, promoting a more organized code structure.\n",
    "   - Hierarchical relationships are established, aiding in code management and extensibility.\n",
    "\n",
    "4. **Polymorphism**:\n",
    "   - Flexibility is achieved through polymorphism, allowing methods to operate on objects of various types.\n",
    "   - Simplified code implementation due to the ability to treat different objects uniformly.\n",
    "\n",
    "5. **Abstraction**:\n",
    "   - Abstraction allows developers to focus on essential aspects of objects while hiding irrelevant details.\n",
    "   - Simplifies the programming model, making it easier to conceptualize and implement complex systems.\n"
   ]
  },
  {
   "cell_type": "markdown",
   "metadata": {},
   "source": [
    "Q2. What are the four main features of OOPs?"
   ]
  },
  {
   "cell_type": "markdown",
   "metadata": {},
   "source": [
    "Ans. The four main features of object-oriented programming (OOP) are:\n",
    "\n",
    "1. **Encapsulation**: Encapsulation refers to the bundling of data and methods that operate on the data into a single unit, i.e., a class. It restricts access to some of the object's components, allowing the object to hide the internal state and only expose the necessary functionalities. This enhances security and helps in data management.\n",
    "\n",
    "2. **Inheritance**: Inheritance is a mechanism in which a new class inherits properties and behaviors from an existing class. The existing class is referred to as the base class or superclass, and the new class is the derived class or subclass. This promotes code reuse and allows for the creation of hierarchical relationships among classes.\n",
    "\n",
    "3. **Polymorphism**: Polymorphism allows objects of different classes to be treated as objects of a common superclass. It allows methods to operate on objects of various types, providing flexibility and enabling dynamic method invocation. Polymorphism can be achieved through method overloading and method overriding.\n",
    "\n",
    "4. **Abstraction**: Abstraction involves simplifying complex systems by modeling classes appropriate to the problem, and working at the most relevant level of inheritance. It allows developers to focus on essential aspects of an object while hiding irrelevant details. Abstraction helps in reducing programming complexity and effort.\n",
    "\n"
   ]
  },
  {
   "cell_type": "markdown",
   "metadata": {},
   "source": [
    "Q3. What do you mean by class and objects?"
   ]
  },
  {
   "cell_type": "markdown",
   "metadata": {},
   "source": [
    "Ans. In object-oriented programming (OOP), a class and objects are fundamental concepts:\n",
    "\n",
    "### Class:\n",
    "- **Definition**: A class is a blueprint for creating objects. It defines the properties (attributes or fields) and behaviors (methods or functions) that objects of the class will have.\n",
    "- **Purpose**: Classes serve as templates or blueprints from which objects are created. They encapsulate data and behavior associated with the objects they represent.\n",
    "- **Example**: For instance, if we're modeling a Car, the Car class would define attributes such as color, make, and model, as well as methods like accelerate and brake.\n",
    "\n",
    "### Object:\n",
    "- **Definition**: An object is an instance of a class. It is a tangible entity that represents a particular concept or thing modeled by the class.\n",
    "- **Purpose**: Objects encapsulate data and behavior defined by their class. They are the real-world entities manipulated within the program.\n",
    "- **Example**: Using the Car example, an object would be a specific car, such as a red Honda Civic with a license plate number. Each car on the road would be an instance of the Car class, with its specific attributes and behaviors.\n"
   ]
  },
  {
   "cell_type": "markdown",
   "metadata": {},
   "source": [
    "Q4. Types of variables. Explain with examples?"
   ]
  },
  {
   "cell_type": "markdown",
   "metadata": {},
   "source": [
    "### 1. Local Variables:\n",
    "- **Definition**: Local variables are declared within a method, constructor, or block. They have limited scope and are accessible only within the block where they are declared.\n",
    "- **Example**:\n",
    "\n",
    "```java\n",
    "public class Example {\n",
    "    public void doSomething() {\n",
    "        int x = 10; // local variable\n",
    "        System.out.println(x);\n",
    "    }\n",
    "}\n",
    "```\n",
    "\n",
    "### 2. Instance Variables (Non-Static Fields):\n",
    "- **Definition**: Instance variables are declared within a class but outside any method, constructor, or block. They are associated with instances (objects) of the class and have separate memory allocation for each instance.\n",
    "- **Example**:\n",
    "\n",
    "```java\n",
    "public class Car {\n",
    "    String model; // instance variable\n",
    "    int year;     // instance variable\n",
    "}\n",
    "```\n",
    "\n",
    "### 3. Static Variables (Class Variables):\n",
    "- **Definition**: Static variables are declared with the `static` keyword within a class but outside any method, constructor, or block. They are associated with the class rather than with any instance of the class and have a single memory allocation shared by all instances.\n",
    "- **Example**:\n",
    "\n",
    "```java\n",
    "public class Circle {\n",
    "    static final double PI = 3.14159; // static variable\n",
    "    static int count = 0;              // static variable\n",
    "\n",
    "    Circle() {\n",
    "        count++; // increment count each time a Circle object is created\n",
    "    }\n",
    "}\n",
    "```\n",
    "\n",
    "### 4. Parameters:\n",
    "- **Definition**: Parameters are variables declared in the parameter list of a method or constructor. They receive values when the method or constructor is called and are accessible within the method or constructor.\n",
    "- **Example**:\n",
    "\n",
    "```java\n",
    "public class Calculator {\n",
    "    public int add(int num1, int num2) { // parameters\n",
    "        return num1 + num2;\n",
    "    }\n",
    "}\n",
    "```\n",
    "\n"
   ]
  },
  {
   "cell_type": "markdown",
   "metadata": {},
   "source": [
    "Q5. What is a constructor? Different type of constructor with example?"
   ]
  },
  {
   "cell_type": "markdown",
   "metadata": {},
   "source": [
    "Ans. A constructor in Java is a special type of method that is called when an object of a class is instantiated. Its primary purpose is to initialize the newly created object. In Java, constructors have the same name as the class and do not have a return type, not even `void`.\n",
    "\n",
    "### Types of Constructors in Java:\n",
    "\n",
    "#### 1. Default Constructor:\n",
    "- **Definition**: If a class does not have any constructor defined, Java provides a default constructor automatically. This constructor initializes instance variables to their default values (0, null, or false).\n",
    "- **Example**:\n",
    "\n",
    "```java\n",
    "public class Example {\n",
    "    int x; // instance variable\n",
    "\n",
    "    // Default constructor (automatically provided if no constructor is defined)\n",
    "    public Example() {\n",
    "        // Java initializes 'x' to default value (0)\n",
    "    }\n",
    "}\n",
    "```\n",
    "\n",
    "#### 2. Parameterized Constructor:\n",
    "- **Definition**: A parameterized constructor is a constructor with parameters, allowing initialization of instance variables with specific values when an object is created.\n",
    "- **Example**:\n",
    "\n",
    "```java\n",
    "public class Car {\n",
    "    String model;\n",
    "    int year;\n",
    "\n",
    "    // Parameterized constructor\n",
    "    public Car(String model, int year) {\n",
    "        this.model = model;\n",
    "        this.year = year;\n",
    "    }\n",
    "}\n",
    "```\n",
    "\n",
    "#### 3. Copy Constructor:\n",
    "- **Definition**: A copy constructor is a constructor that takes an object of the same class as a parameter and creates a new object by copying the values of instance variables from the parameter object.\n",
    "- **Example**:\n",
    "\n",
    "```java\n",
    "public class Rectangle {\n",
    "    int width;\n",
    "    int height;\n",
    "\n",
    "    // Copy constructor\n",
    "    public Rectangle(Rectangle rect) {\n",
    "        this.width = rect.width;\n",
    "        this.height = rect.height;\n",
    "    }\n",
    "}\n",
    "```\n",
    "\n",
    "#### 4. Constructor Overloading:\n",
    "- **Definition**: Constructor overloading is the practice of having multiple constructors in a class, each with a different parameter list. It allows objects to be initialized in various ways.\n",
    "- **Example**:\n",
    "\n",
    "```java\n",
    "public class Employee {\n",
    "    String name;\n",
    "    int id;\n",
    "    double salary;\n",
    "\n",
    "    // Constructor with different parameter lists (overloaded constructors)\n",
    "    public Employee(String name, int id) {\n",
    "        this.name = name;\n",
    "        this.id = id;\n",
    "    }\n",
    "\n",
    "    public Employee(String name, int id, double salary) {\n",
    "        this.name = name;\n",
    "        this.id = id;\n",
    "        this.salary = salary;\n",
    "    }\n",
    "}\n",
    "```\n",
    "\n",
    "#### 5. Private Constructor:\n",
    "- **Definition**: A private constructor is a constructor that is accessible only within the same class. It cannot be accessed or instantiated from outside the class.\n",
    "- **Purpose**: Private constructors are typically used for preventing the instantiation of a class from outside and are commonly used in classes that contain only static methods or serve as utility classes.\n",
    "- **Example**:\n",
    "\n",
    "```java\n",
    "public class Singleton {\n",
    "    private static Singleton instance;\n",
    "\n",
    "    // Private constructor\n",
    "    private Singleton() {\n",
    "        // Prevents instantiation from outside\n",
    "    }\n",
    "\n",
    "    public static Singleton getInstance() {\n",
    "        if (instance == null) {\n",
    "            instance = new Singleton();\n",
    "        }\n",
    "        return instance;\n",
    "    }\n",
    "}\n",
    "```\n"
   ]
  },
  {
   "cell_type": "markdown",
   "metadata": {},
   "source": [
    "Q6. What are the characteristics of an abstract class?"
   ]
  },
  {
   "cell_type": "markdown",
   "metadata": {},
   "source": [
    "1. **Abstract Methods**: Abstract classes can have abstract methods, which are declared without implementation. These methods are meant to be implemented by subclasses. Abstract methods are declared using the `abstract` keyword and terminated with a semicolon (;) instead of a method body.\n",
    "\n",
    "2. **Concrete Methods**: Abstract classes can also contain concrete methods, i.e., methods with implementation. Subclasses can inherit these concrete methods without overriding them. Concrete methods provide default behavior that subclasses can use or override.\n",
    "\n",
    "3. **Cannot be Instantiated**: Abstract classes cannot be instantiated directly. That is, you cannot create objects of abstract classes using the `new` keyword. However, they can be used as a type for reference variables, and their concrete subclasses can be instantiated.\n",
    "\n",
    "4. **May Contain Constructors**: Abstract classes can have constructors, including default constructors and parameterized constructors. These constructors are called when an instance of a concrete subclass is created.\n",
    "\n",
    "5. **May Contain Instance Variables**: Abstract classes can contain instance variables, just like regular classes. Subclasses inherit these variables, and they can be accessed and modified within subclasses.\n",
    "\n",
    "6. **May Contain Static Methods**: Abstract classes can contain static methods, which are shared among all instances of the class and can be called without creating an object of the class.\n",
    "\n",
    "7. **Can Extend Another Class**: Abstract classes in Java can extend another abstract class or a regular class. However, if an abstract class extends a regular class, it must implement all abstract methods inherited from its superclass or be declared abstract itself."
   ]
  },
  {
   "cell_type": "markdown",
   "metadata": {},
   "source": [
    "Q7. Differentiate between abstract class and Interface."
   ]
  },
  {
   "cell_type": "markdown",
   "metadata": {},
   "source": [
    "\n",
    "| Feature                  | Abstract Class                                   | Interface                                      |\n",
    "|--------------------------|--------------------------------------------------|------------------------------------------------|\n",
    "| **Purpose**              | Provides a blueprint for other classes to extend | Defines a contract for classes to implement    |\n",
    "| **Methods**              | Can have abstract and concrete methods           | Can only have abstract methods                 |\n",
    "| **Variables**            | Can have instance variables                      | Cannot have instance variables                |\n",
    "| **Constructor**          | Can have constructors                            | Cannot have constructors                      |\n",
    "| **Inheritance**          | Supports single class inheritance                | Supports multiple interface inheritance        |\n",
    "| **Access Modifiers**     | Can have access modifiers (public, private, etc.)| Methods are implicitly public                  |\n",
    "| **Multiple Inheritance** | Cannot extend multiple classes                   | Can implement multiple interfaces              |\n",
    "| **Implementation**       | Subclasses must provide implementation           | Classes must provide implementation for all methods |\n",
    "| **Usage**                | Suitable for sharing code among related classes  | Suitable for defining common behavior among unrelated classes |\n"
   ]
  },
  {
   "cell_type": "markdown",
   "metadata": {},
   "source": [
    "Q8. Differentiate between constructor and methods."
   ]
  },
  {
   "cell_type": "markdown",
   "metadata": {},
   "source": [
    "\n",
    "\n",
    "| Feature               | Constructor                                   | Method                                      |\n",
    "|-----------------------|-----------------------------------------------|---------------------------------------------|\n",
    "| **Purpose**           | Initializes an object when it is created      | Performs an operation or behavior           |\n",
    "| **Name**              | Same as the class name                        | Can have any name                           |\n",
    "| **Return Type**       | No return type (not even `void`)               | Can have a return type or `void`            |\n",
    "| **Invocation**        | Automatically called when an object is created | Called explicitly by name                   |\n",
    "| **Overloading**       | Can be overloaded (multiple constructors with different parameters) | Can be overloaded (multiple methods with the same name but different parameters) |\n",
    "| **Accessibility**     | Can have access modifiers (public, private, protected) | Can have access modifiers (public, private, protected) |\n",
    "| **Static**            | Cannot be declared as `static`                | Can be declared as `static`                 |\n",
    "| **Inheritance**       | Not inherited by subclasses                   | Inherited by subclasses                     |\n",
    "| **Example**           | ```java                                        | ```java                                      |\n",
    "|                       | public class Car {                            | public class Car {                          |\n",
    "|                       |     String model;                             |     public void start() {                   |\n",
    "|                       |     int year;                                 |         // code to start the car           |\n",
    "|                       |     public Car(String model, int year) {     |     }                                       |\n",
    "|                       |         this.model = model;                   |                                             |\n",
    "|                       |         this.year = year;                     |     public void stop() {                    |\n",
    "|                       |     }                                         |         // code to stop the car            |\n",
    "|                       | }                                             |     }                                       |\n",
    "|                       |                                               | }                                           |\n",
    "|                       |                                               | ```                                         |\n"
   ]
  },
  {
   "cell_type": "markdown",
   "metadata": {},
   "source": [
    "Q9. Difference between overloading and overriding."
   ]
  },
  {
   "cell_type": "markdown",
   "metadata": {},
   "source": [
    "\n",
    "\n",
    "| Feature             | Method Overloading                                     | Method Overriding                                      |\n",
    "|---------------------|--------------------------------------------------------|--------------------------------------------------------|\n",
    "| **Definition**      | Having multiple methods in the same class with the same name but different parameters | Redefining a method in a subclass with the same name and parameter list as a method in the superclass |\n",
    "| **Occurs in**       | Occurs within the same class                           | Occurs between a superclass and its subclass           |\n",
    "| **Signature**       | Must have different parameter lists (different number or types of parameters) | Must have the same method signature (same name and parameter list) |\n",
    "| **Return Type**     | May or may not have the same return type               | Must have the same return type                         |\n",
    "| **Access Modifier** | May or may not have the same access modifier           | Must have the same or wider access modifier             |\n",
    "| **Inheritance**     | Not related to inheritance                             | Related to inheritance, occurs in an inheritance hierarchy |\n",
    "| **Static Methods**  | Can overload static and instance methods               | Cannot override static methods, only instance methods   |\n",
    "| **Example**         | ```java                                                | ```java                                                |\n",
    "|                     | public class Example {                                 | public class Animal {                                  |\n",
    "|                     |     public void doSomething(int x) {                   |     public void makeSound() {                         |\n",
    "|                     |         // code                                       |         System.out.println(\"Animal makes a sound\");   |\n",
    "|                     |     }                                                 |     }                                                  |\n",
    "|                     |                                                           | }                                                      |\n",
    "|                     |     public void doSomething(String s) {                | public class Dog extends Animal {                    |\n",
    "|                     |         // code                                       |     @Override                                         |\n",
    "|                     |     }                                                 |     public void makeSound() {                         |\n",
    "|                     | }                                                     |         System.out.println(\"Dog barks\");             |\n",
    "| ```                                                   |     }                                                  |\n",
    "|                                                         | }                                                      |\n",
    "|                                                         | ```                                                    |\n"
   ]
  },
  {
   "cell_type": "markdown",
   "metadata": {},
   "source": [
    "Q10. Purpose of this keywords"
   ]
  },
  {
   "cell_type": "markdown",
   "metadata": {},
   "source": [
    "The `this` keyword in Java serves multiple purposes:\n",
    "\n",
    "1. **Reference to Current Object**: `this` is a reference variable that refers to the current object within a non-static method or constructor. It can be used to access instance variables and methods of the current object.\n",
    "\n",
    "2. **Avoid Name Clashes**: When a local variable has the same name as an instance variable, `this` can be used to differentiate between them. It resolves ambiguity by referring to the instance variable.\n",
    "\n",
    "3. **Constructor Chaining**: `this` can be used to call one constructor from another constructor within the same class. This is known as constructor chaining and is often used to reduce code duplication.\n",
    "\n",
    "4. **Passing the Current Object**: `this` can be passed as an argument to other methods or constructors, allowing methods or constructors to operate on the current object.\n",
    "\n",
    "5. **Returning the Current Object**: In methods where the return type is the class type itself (e.g., for method chaining), `this` can be returned to return the current object.\n"
   ]
  },
  {
   "cell_type": "markdown",
   "metadata": {},
   "source": [
    "Q11. What do you mean by super keyword?"
   ]
  },
  {
   "cell_type": "markdown",
   "metadata": {},
   "source": [
    "In Java, the `super` keyword is used to refer to the superclass of the current object. It has several uses:\n",
    "\n",
    "1. **Accessing Superclass Members**: `super` can be used to access members (methods, variables, constructors) of the superclass from within the subclass. This is useful when the subclass overrides a method or hides a variable of the superclass, and the superclass version needs to be accessed.\n",
    "\n",
    "2. **Constructor Chaining**: `super` can be used to call the constructor of the superclass from the constructor of the subclass. This is used for constructor chaining, where constructors in the inheritance hierarchy can be invoked to initialize the object properly.\n",
    "\n",
    "3. **Accessing Superclass Methods**: When a method is overridden in a subclass, `super` can be used to invoke the superclass version of the method. This is useful when the subclass wants to extend the functionality of the superclass method rather than completely replacing it.\n",
    "\n",
    "4. **Accessing Superclass Constructors**: When a constructor is called in a subclass using `super`, it must be the first statement in the subclass constructor. This ensures that superclass initialization is performed before subclass initialization.\n"
   ]
  },
  {
   "cell_type": "markdown",
   "metadata": {},
   "source": [
    "Q12. Purpose of final keyword."
   ]
  },
  {
   "cell_type": "markdown",
   "metadata": {},
   "source": [
    "In Java, the `final` keyword serves several purposes:\n",
    "\n",
    "1. **Constants**: When applied to a variable, the `final` keyword indicates that the variable's value cannot be changed once assigned. It essentially makes the variable a constant. \n",
    "\n",
    "```java\n",
    "final int MAX_VALUE = 100;\n",
    "```\n",
    "\n",
    "2. **Methods**: When applied to a method, the `final` keyword prevents the method from being overridden by subclasses. This ensures that the method's implementation remains unchanged in subclasses.\n",
    "\n",
    "```java\n",
    "public final void printMessage() {\n",
    "    System.out.println(\"This method cannot be overridden.\");\n",
    "}\n",
    "```\n",
    "\n",
    "3. **Classes**: When applied to a class, the `final` keyword prevents the class from being subclassed. This means that no other class can inherit from a final class.\n",
    "\n",
    "```java\n",
    "public final class FinalClass {\n",
    "    // Class definition\n",
    "}\n",
    "```\n",
    "\n",
    "4. **Arguments**: When applied to method parameters, the `final` keyword indicates that the value of the parameter cannot be changed within the method.\n",
    "\n",
    "```java\n",
    "public void process(final int value) {\n",
    "    // Cannot reassign value within this method\n",
    "}\n",
    "```\n",
    "\n",
    "5. **Instance Initialization**: When applied to an instance variable within a constructor, the `final` keyword ensures that the variable is initialized only once and cannot be changed afterward.\n",
    "\n",
    "```java\n",
    "public class Example {\n",
    "    final int initialValue;\n",
    "    \n",
    "    public Example(int value) {\n",
    "        initialValue = value;\n",
    "    }\n",
    "}\n",
    "```\n",
    "\n"
   ]
  },
  {
   "cell_type": "markdown",
   "metadata": {},
   "source": [
    "Q13. What is auto-boxing and unboxing in java? Explain with some example"
   ]
  },
  {
   "cell_type": "markdown",
   "metadata": {},
   "source": [
    "Auto-boxing and unboxing are features introduced in Java to automatically convert between primitive types and their corresponding wrapper classes. These conversions occur implicitly without requiring explicit code from the programmer.\n",
    "\n",
    "### Auto-boxing:\n",
    "Auto-boxing is the process of automatically converting a primitive type into its corresponding wrapper class object. This happens when a primitive type is used in a context where an object of the corresponding wrapper class is expected.\n",
    "\n",
    "```java\n",
    "// Auto-boxing example\n",
    "int primitiveInt = 10;  // Primitive int\n",
    "Integer wrapperInt = primitiveInt;  // Auto-boxing: primitive int to Integer object\n",
    "```\n",
    "\n",
    "### Unboxing:\n",
    "Unboxing is the process of automatically converting a wrapper class object into its corresponding primitive type. This happens when a wrapper class object is used in a context where a primitive type is expected.\n",
    "\n",
    "```java\n",
    "// Unboxing example\n",
    "Integer wrapperInt = new Integer(20);  // Integer object\n",
    "int primitiveInt = wrapperInt;  // Unboxing: Integer object to primitive int\n",
    "```\n",
    "\n",
    "### Auto-boxing and Unboxing in Expressions:\n",
    "Auto-boxing and unboxing can also occur in expressions involving wrapper classes and primitive types.\n",
    "\n",
    "```java\n",
    "// Auto-boxing and unboxing in expressions\n",
    "Integer a = 10;  // Auto-boxing: primitive int to Integer object\n",
    "int b = new Integer(20);  // Unboxing: Integer object to primitive int\n",
    "int result = a + b;  // Auto-boxing and unboxing in the expression\n",
    "```\n",
    "\n",
    "### Benefits:\n",
    "Auto-boxing and unboxing reduce the amount of code required for converting between primitive types and wrapper classes, making the code more concise and readable. They also help in improving performance by reducing the need for manual conversions.\n",
    "\n"
   ]
  },
  {
   "cell_type": "markdown",
   "metadata": {},
   "source": [
    "Q14. What is Upcasting (widening) And Downcasting (narrowing) in Java?"
   ]
  },
  {
   "cell_type": "markdown",
   "metadata": {},
   "source": [
    "In Java, upcasting and downcasting are related to the conversion of object references between class hierarchies. \n",
    "\n",
    "### Upcasting (Widening):\n",
    "- **Definition**: Upcasting involves converting a reference of a subclass type to a reference of a superclass type. This is considered widening because you are going from a more specific type to a more general type.\n",
    "- **Example**:\n",
    "\n",
    "```java\n",
    "class Animal { }\n",
    "class Dog extends Animal { }\n",
    "\n",
    "// Upcasting: Dog reference to Animal reference\n",
    "Animal animal = new Dog(); \n",
    "```\n",
    "\n",
    "### Downcasting (Narrowing):\n",
    "- **Definition**: Downcasting involves converting a reference of a superclass type to a reference of a subclass type. This is considered narrowing because you are going from a more general type to a more specific type. \n",
    "- **Example**:\n",
    "\n",
    "```java\n",
    "class Animal { }\n",
    "class Dog extends Animal { }\n",
    "\n",
    "// Upcasting: Dog reference to Animal reference\n",
    "Animal animal = new Dog(); \n",
    "\n",
    "// Downcasting: Animal reference to Dog reference\n",
    "Dog dog = (Dog) animal;\n",
    "```\n",
    "\n",
    "### Risks of Downcasting:\n",
    "- Downcasting can result in a `ClassCastException` at runtime if the object being referenced is not actually an instance of the subclass type.\n",
    "- It's advisable to use the `instanceof` operator to check the type before performing downcasting to avoid runtime errors.\n",
    "\n",
    "```java\n",
    "if (animal instanceof Dog) {\n",
    "    Dog dog = (Dog) animal; // Safe downcasting\n",
    "} else {\n",
    "    // Handle the case where the object is not a Dog\n",
    "}\n",
    "```\n",
    "\n"
   ]
  },
  {
   "cell_type": "markdown",
   "metadata": {},
   "source": [
    "Q15. What happens if an exception is not handled in Java?"
   ]
  },
  {
   "cell_type": "markdown",
   "metadata": {},
   "source": [
    "If an exception is not handled in Java, it will propagate up through the call stack until it encounters a handler (try-catch block) that can deal with it, or until it reaches the top-level exception handler if no appropriate handler is found. \n",
    "\n",
    "If no handler is found and the exception reaches the top-level of the call stack, the following consequences occur:\n",
    "\n",
    "1. **Termination of Program**: If an unhandled exception reaches the top-level of the call stack, the Java Virtual Machine (JVM) will terminate the program. This abrupt termination prevents the program from continuing execution in an inconsistent or erroneous state.\n",
    "\n",
    "2. **Display of Error Message**: The JVM will typically display an error message on the console or in a log file indicating the type of exception that occurred, along with a stack trace that shows the sequence of method calls leading up to the exception.\n",
    "\n",
    "3. **Loss of Data**: Depending on when and where the exception occurs, unhandled exceptions can lead to loss of data or corruption of resources. For example, if an exception occurs during file I/O without proper handling, unsaved data may be lost.\n",
    "\n",
    "4. **Impact on User Experience**: Unhandled exceptions can have a negative impact on the user experience, as they may result in crashes or unexpected behavior that disrupts the normal flow of the application.\n",
    "\n"
   ]
  },
  {
   "cell_type": "markdown",
   "metadata": {},
   "source": [
    "Q16. Difference between finally and final."
   ]
  },
  {
   "cell_type": "markdown",
   "metadata": {},
   "source": [
    "Sure, here's a comparison of `finally` and `final` presented in a table format:\n",
    "\n",
    "| Feature       | `finally`                               | `final`                          |\n",
    "|---------------|-----------------------------------------|----------------------------------|\n",
    "| **Usage**     | Used in try-catch-finally blocks        | Used in variable or method declarations |\n",
    "| **Purpose**   | Defines a block of code that always executes, typically used for cleanup operations | Declares constants or prevents modification/inheritance |\n",
    "| **Example**   | ```java                                 | ```java                          |\n",
    "|               | try {                                   | final int MAX_VALUE = 100;      |\n",
    "|               |     // Code that may throw an exception|                                  |\n",
    "|               | } catch (Exception e) {                 | final class Example {           |\n",
    "|               |     // Handling the exception          |     // Class definition        |\n",
    "|               | } finally {                             | }                                |\n",
    "|               |     // Cleanup code that always executes |                                  |\n",
    "|               | }                                       |                                  |\n",
    "|               | ```                                     |                                  |\n",
    "\n"
   ]
  },
  {
   "cell_type": "markdown",
   "metadata": {},
   "source": [
    "Q17. Difference between throw and throws in java."
   ]
  },
  {
   "cell_type": "markdown",
   "metadata": {},
   "source": [
    "\n",
    "| Feature       | `throw`                                            | `throws`                                      |\n",
    "|---------------|----------------------------------------------------|-----------------------------------------------|\n",
    "| **Usage**     | Used to explicitly throw an exception within a method or block of code | Used in method declarations to indicate that the method may throw certain types of exceptions |\n",
    "| **Purpose**   | Manually creates and throws an exception when a certain condition or error occurs | Delegates the responsibility of handling exceptions to the caller of the method |\n",
    "| **Example**   | ```java                                           | ```java                                       |\n",
    "|               | public void validateAge(int age) {                | public void readFile() throws IOException { |\n",
    "|               |     if (age < 18) {                              |     // Code that may throw IOException      |\n",
    "|               |         throw new IllegalArgumentException(\"Age must be at least 18\"); | }                                             |\n",
    "|               |     }                                            |                                               |\n",
    "|               | ```                                              | ```                                           |\n",
    "\n"
   ]
  },
  {
   "cell_type": "markdown",
   "metadata": {},
   "source": [
    "Q18. What are the differences between error and exception?"
   ]
  },
  {
   "cell_type": "markdown",
   "metadata": {},
   "source": [
    "\n",
    "| Feature            | Error                                                  | Exception                                              |\n",
    "|--------------------|--------------------------------------------------------|--------------------------------------------------------|\n",
    "| **Cause**          | Typically caused by the environment or system issues, such as out of memory errors, stack overflow, hardware failure, etc. | Caused by application-level issues, such as invalid input, programming errors, I/O failures, etc. |\n",
    "| **Type**           | Represents serious issues that usually cannot be handled by the application. | Represents issues that can be handled programmatically by the application. |\n",
    "| **Hierarchy**      | Extends the `Error` class.                            | Extends the `Exception` class.                         |\n",
    "| **Checked/Unchecked** | All errors are unchecked and do not need to be caught or declared in a method signature. | Exceptions can be either checked or unchecked. Checked exceptions must be caught or declared in a method signature, while unchecked exceptions do not need to be caught or declared. |\n",
    "| **Handling**       | Generally not handled by the application, as they indicate critical problems that cannot be recovered from. | Typically handled using try-catch blocks or by propagating them to higher levels of the application. |\n",
    "| **Examples**       | `OutOfMemoryError`, `StackOverflowError`, `AssertionError`, `LinkageError`, etc. | `NullPointerException`, `IOException`, `ArrayIndexOutOfBoundsException`, `NumberFormatException`, etc. |\n",
    "\n"
   ]
  },
  {
   "cell_type": "markdown",
   "metadata": {},
   "source": [
    "Q19. What is the difference between Checked and Unchecked Exceptions in\n",
    " Java?"
   ]
  },
  {
   "cell_type": "markdown",
   "metadata": {},
   "source": [
    "\n",
    "| Feature                    | Checked Exceptions                                  | Unchecked Exceptions                                |\n",
    "|----------------------------|-----------------------------------------------------|-----------------------------------------------------|\n",
    "| **Definition**             | Exceptions that must be caught or declared in a method's signature. | Exceptions that do not need to be caught or declared. |\n",
    "| **Type**                   | Subclass of `Exception` (excluding `RuntimeException` and its subclasses). | Subclass of `RuntimeException`, including its subclasses. |\n",
    "| **Handling Requirement**   | Must be caught or declared (using `throws` clause) in a method's signature. | Can be caught, but not required to be caught or declared. |\n",
    "| **Purpose**                | Typically used for recoverable conditions that the application can handle. | Typically used for programming errors or conditions that are not recoverable. |\n",
    "| **Examples**               | `IOException`, `SQLException`, `ClassNotFoundException`, etc. | `NullPointerException`, `ArrayIndexOutOfBoundsException`, `IllegalArgumentException`, etc. |\n",
    "| **Compilation Requirement**| Compiler enforces handling through checked exceptions, leading to compile-time errors if not handled. | Compiler does not enforce handling, so there are no compile-time errors if unchecked exceptions are not handled. |\n",
    "\n"
   ]
  },
  {
   "cell_type": "markdown",
   "metadata": {},
   "source": [
    "Q20. Can we have an empty catch block?"
   ]
  },
  {
   "cell_type": "markdown",
   "metadata": {},
   "source": [
    "Yes, it is possible to have an empty catch block in Java. An empty catch block is a catch block that does not contain any statements within its body. However, it's generally not recommended to have empty catch blocks because they can lead to various issues and make debugging more challenging. \n",
    "\n",
    "Here's an example of an empty catch block:\n",
    "\n",
    "```java\n",
    "try {\n",
    "    // Code that may throw an exception\n",
    "} catch (Exception e) {\n",
    "    // Empty catch block\n",
    "}\n",
    "```\n",
    "\n",
    "Having an empty catch block means that any exception thrown within the corresponding try block will be caught but not handled in any way. This can hide errors and make it difficult to diagnose and troubleshoot issues in the code. It's usually better to handle exceptions appropriately by logging the exception, displaying an error message, or taking some other action to address the problem. If an exception cannot be handled at the current level, it's better to propagate it to a higher level where it can be properly handled."
   ]
  }
 ],
 "metadata": {
  "language_info": {
   "name": "python"
  }
 },
 "nbformat": 4,
 "nbformat_minor": 2
}
